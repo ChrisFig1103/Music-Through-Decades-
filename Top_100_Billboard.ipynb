{
  "nbformat": 4,
  "nbformat_minor": 0,
  "metadata": {
    "colab": {
      "name": "Top 100 Billboard.ipynb",
      "provenance": [],
      "authorship_tag": "ABX9TyOE6d0/AD6IT9rQWHnm+2mD"
    },
    "kernelspec": {
      "name": "python3",
      "display_name": "Python 3"
    },
    "language_info": {
      "name": "python"
    }
  },
  "cells": [
    {
      "cell_type": "code",
      "execution_count": 1,
      "metadata": {
        "colab": {
          "base_uri": "https://localhost:8080/"
        },
        "id": "7oAjqj8crZ4Q",
        "outputId": "75381682-ae64-485e-d926-7520287034a4"
      },
      "outputs": [
        {
          "output_type": "stream",
          "name": "stdout",
          "text": [
            "Looking in indexes: https://pypi.org/simple, https://us-python.pkg.dev/colab-wheels/public/simple/\n",
            "Collecting billboard.py\n",
            "  Downloading billboard.py-7.0.0-py2.py3-none-any.whl (7.0 kB)\n",
            "Requirement already satisfied: beautifulsoup4>=4.4.1 in /usr/local/lib/python3.7/dist-packages (from billboard.py) (4.6.3)\n",
            "Requirement already satisfied: requests>=2.2.1 in /usr/local/lib/python3.7/dist-packages (from billboard.py) (2.23.0)\n",
            "Requirement already satisfied: chardet<4,>=3.0.2 in /usr/local/lib/python3.7/dist-packages (from requests>=2.2.1->billboard.py) (3.0.4)\n",
            "Requirement already satisfied: urllib3!=1.25.0,!=1.25.1,<1.26,>=1.21.1 in /usr/local/lib/python3.7/dist-packages (from requests>=2.2.1->billboard.py) (1.24.3)\n",
            "Requirement already satisfied: idna<3,>=2.5 in /usr/local/lib/python3.7/dist-packages (from requests>=2.2.1->billboard.py) (2.10)\n",
            "Requirement already satisfied: certifi>=2017.4.17 in /usr/local/lib/python3.7/dist-packages (from requests>=2.2.1->billboard.py) (2022.5.18.1)\n",
            "Installing collected packages: billboard.py\n",
            "Successfully installed billboard.py-7.0.0\n"
          ]
        }
      ],
      "source": [
        "!pip install billboard.py"
      ]
    },
    {
      "cell_type": "code",
      "source": [
        "import billboard\n",
        "from datetime import date,timedelta"
      ],
      "metadata": {
        "id": "FtKfVWyasFyO"
      },
      "execution_count": 40,
      "outputs": []
    },
    {
      "cell_type": "code",
      "source": [
        "#Initial date\n",
        "date = date(1940,1,1)\n",
        "today=date.today()\n",
        "\n",
        "while date < today:\n",
        "  print(date)\n",
        "  date+=timedelta(days=1)\n",
        "\n",
        " \n",
        " "
      ],
      "metadata": {
        "id": "6dAEVWZp1CEW"
      },
      "execution_count": null,
      "outputs": []
    },
    {
      "cell_type": "code",
      "source": [
        "\n",
        "\n",
        "#hot-100\n",
        "chart = billboard.ChartData('hot-100',\"2022-04-30\")\n",
        "print(chart[99])\n",
        "print(chart[99].rank)"
      ],
      "metadata": {
        "colab": {
          "base_uri": "https://localhost:8080/"
        },
        "id": "bulffzGXr8sS",
        "outputId": "6ca5cb6e-2bb2-42a0-cfae-929f496f020c"
      },
      "execution_count": 46,
      "outputs": [
        {
          "output_type": "stream",
          "name": "stdout",
          "text": [
            "'X Ultima Vez' by Daddy Yankee & Bad Bunny\n",
            "100\n"
          ]
        }
      ]
    },
    {
      "cell_type": "code",
      "source": [
        "import billboard\n",
        "chart = billboard.ChartData('hot-100')\n",
        "song = chart[0]  # Get no. 1 song on chart\n",
        "\n",
        "song_dict  =  {\n",
        "    \"artist\": song.artist,\n",
        "    \"image\":song.image,\n",
        "    \"lastpos\":song.lastPos,\n",
        "    \"peakpos\":song.peakPos,\n",
        "    \"rank\":song.rank,\n",
        "    \"title\":song.title,\n",
        "    \"weeks\": song.weeks\n",
        "}\n",
        "date = []\n",
        "artist = []\n",
        "image = []\n",
        "lastpos = []\n",
        "peakpos = []\n",
        "rank = []\n",
        "title = []\n",
        "weeks = []\n",
        "\n",
        "\n",
        "print(chart.date)\n",
        "print(song.artist)\n",
        "print(song.image)\n",
        "print(song.isNew)\n",
        "print(song.json)\n",
        "print(song.lastPos)\n",
        "print(song.peakPos)\n",
        "print(song.rank)\n",
        "print(song.title)\n",
        "print(song.weeks)\n",
        "print(song_dict)"
      ],
      "metadata": {
        "colab": {
          "base_uri": "https://localhost:8080/"
        },
        "id": "yyj1lavVsM-8",
        "outputId": "0652eebe-2d61-4080-efd6-b15cb49a0374"
      },
      "execution_count": 48,
      "outputs": [
        {
          "output_type": "stream",
          "name": "stdout",
          "text": [
            "2022-05-28\n",
            "Jack Harlow\n",
            "None\n",
            "False\n",
            "<bound method ChartEntry.json of billboard.ChartEntry(title='First Class', artist='Jack Harlow')>\n",
            "1\n",
            "1\n",
            "1\n",
            "First Class\n",
            "6\n",
            "{'artist': 'Jack Harlow', 'image': None, 'lastpos': 1, 'peakpos': 1, 'rank': 1, 'title': 'First Class', 'weeks': 6}\n"
          ]
        }
      ]
    },
    {
      "cell_type": "code",
      "source": [
        "from datetime import date\n",
        "today=date.today()\n",
        "print(\"today date is \",today )"
      ],
      "metadata": {
        "colab": {
          "base_uri": "https://localhost:8080/"
        },
        "id": "tl1InYBXtdUv",
        "outputId": "366d5d3a-f253-4912-b9d4-13823920cc57"
      },
      "execution_count": 16,
      "outputs": [
        {
          "output_type": "stream",
          "name": "stdout",
          "text": [
            "today date is  2022-05-31\n"
          ]
        }
      ]
    }
  ]
}