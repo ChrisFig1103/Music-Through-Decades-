{
  "nbformat": 4,
  "nbformat_minor": 0,
  "metadata": {
    "colab": {
      "name": "Top 100 Billboard.ipynb",
      "provenance": [],
      "authorship_tag": "ABX9TyPmshs0vgkSweLbmpLXel34",
      "include_colab_link": true
    },
    "kernelspec": {
      "name": "python3",
      "display_name": "Python 3"
    },
    "language_info": {
      "name": "python"
    }
  },
  "cells": [
    {
      "cell_type": "markdown",
      "metadata": {
        "id": "view-in-github",
        "colab_type": "text"
      },
      "source": [
        "<a href=\"https://colab.research.google.com/github/ChrisFig1103/Music-Through-Decades-/blob/main/Top_100_Billboard.ipynb\" target=\"_parent\"><img src=\"https://colab.research.google.com/assets/colab-badge.svg\" alt=\"Open In Colab\"/></a>"
      ]
    },
    {
      "cell_type": "code",
      "execution_count": null,
      "metadata": {
        "id": "7oAjqj8crZ4Q"
      },
      "outputs": [],
      "source": [
        "!pip install billboard.py"
      ]
    },
    {
      "cell_type": "code",
      "source": [
        "import billboard\n",
        "from datetime import date,timedelta\n",
        "import pandas as pd\n",
        "  "
      ],
      "metadata": {
        "id": "FtKfVWyasFyO"
      },
      "execution_count": 13,
      "outputs": []
    },
    {
      "cell_type": "code",
      "source": [
        "def check_song(song_id,arr):\n",
        "  \n",
        "  l,h = 0, len(arr)-1\n",
        "\n",
        "  while l <= h :\n",
        "    mid = (h+l)//2\n",
        "\n",
        "    if arr[mid] == song_id:\n",
        "      return mid\n",
        "    elif arr[mid] < song_id:\n",
        "      l = mid+1\n",
        "    else:\n",
        "      h = mid-1\n",
        "  return -1\n"
      ],
      "metadata": {
        "id": "iP4oL0DY6LGE",
        "outputId": "f6e007f4-10cb-4ada-9461-60fa2be73f09",
        "colab": {
          "base_uri": "https://localhost:8080/",
          "height": 130
        }
      },
      "execution_count": 16,
      "outputs": [
        {
          "output_type": "error",
          "ename": "SyntaxError",
          "evalue": "ignored",
          "traceback": [
            "\u001b[0;36m  File \u001b[0;32m\"<ipython-input-16-9706daab9983>\"\u001b[0;36m, line \u001b[0;32m8\u001b[0m\n\u001b[0;31m    if (arr)\u001b[0m\n\u001b[0m            ^\u001b[0m\n\u001b[0;31mSyntaxError\u001b[0m\u001b[0;31m:\u001b[0m invalid syntax\n"
          ]
        }
      ]
    },
    {
      "cell_type": "code",
      "source": [
        "def get_chart(date):\n",
        "  chart = billboard.ChartData('hot-100',date)\n",
        "  #for i in range(100):\n",
        "  for i in range(1):\n",
        "    song = chart[i]  # Get no. 1 song on chart\n",
        "    artist_title_song = song.artist+song.title\n",
        "\n",
        "    song_dict  =  {\n",
        "        \"id\":str(hash(artist_title_song))[1:13],\n",
        "        \"artist\": song.artist,\n",
        "        \"image\":song.image,\n",
        "        \"lastpos\":song.lastPos,\n",
        "        \"peakpos\":song.peakPos,\n",
        "        \"rank\":song.rank,\n",
        "        \"title\":song.title,\n",
        "        \"weeks\": song.weeks\n",
        "    }\n",
        "\n",
        "    id_song = []\n",
        "    date = []\n",
        "    artist = []\n",
        "    image = []\n",
        "    lastpos = []\n",
        "    peakpos = []\n",
        "    rank = []\n",
        "    title = []\n",
        "    weeks = []\n",
        "\n",
        "    id_song.append(song_dict.id)\n",
        "    date.append(date)\n",
        "    artist.append(song_dict.artist)\n",
        "    image.append(song_dict.image)\n",
        "    lastpos.append(song_dict.lastpos)\n",
        "    peakpos.append(song_dict.peakpos)\n",
        "    rank.append(song_dict.rank)\n",
        "    title.append(song_dict.title)\n",
        "    weeks.append(song_dict.weeks)\n",
        "\n",
        "    df = pd.DataFrame({\n",
        "          \"id_song\":id_song, \n",
        "          \"date\":date,\n",
        "          \"artist\": artist,\n",
        "          \"image\" :image,\n",
        "          \"lastpos\": lastpos,\n",
        "          \"peakpos\" :peakpos,\n",
        "          \"rank\" :rank,\n",
        "          \"title\":title,\n",
        "          \"weeks\" :weeks\n",
        "    })\n",
        "\n",
        "  "
      ],
      "metadata": {
        "id": "ST9e-1KN3f6N"
      },
      "execution_count": 14,
      "outputs": []
    },
    {
      "cell_type": "code",
      "source": [
        "#Initial date\n",
        "date = date(1940,1,1)\n",
        "today=date.today()\n",
        "\n",
        "while date < today:\n",
        "  print(date)\n",
        "  date+=timedelta(days=1)\n",
        "  chart = billboard.ChartData('hot-100',str(date))\n",
        "  \n",
        " \n",
        " "
      ],
      "metadata": {
        "id": "6dAEVWZp1CEW"
      },
      "execution_count": null,
      "outputs": []
    },
    {
      "cell_type": "code",
      "source": [
        "#hot-100\n",
        "chart = billboard.ChartData('hot-100',\"2022-04-30\")\n",
        "print(chart[99])\n",
        "print(chart[99].rank)"
      ],
      "metadata": {
        "id": "bulffzGXr8sS"
      },
      "execution_count": null,
      "outputs": []
    },
    {
      "cell_type": "code",
      "source": [
        "get_chart(date(2020,1,1))"
      ],
      "metadata": {
        "id": "3an0JdBh4fjK",
        "outputId": "e1e10ec4-87e2-40b6-f440-9e30b462de85",
        "colab": {
          "base_uri": "https://localhost:8080/"
        }
      },
      "execution_count": 15,
      "outputs": [
        {
          "output_type": "stream",
          "name": "stdout",
          "text": [
            "2020-01-04\n",
            "Mariah Carey\n",
            "None\n",
            "False\n",
            "<bound method ChartEntry.json of billboard.ChartEntry(title='All I Want For Christmas Is You', artist='Mariah Carey')>\n",
            "1\n",
            "1\n",
            "1\n",
            "All I Want For Christmas Is You\n",
            "37\n",
            "{'id': '925716830745', 'artist': 'Mariah Carey', 'image': None, 'lastpos': 1, 'peakpos': 1, 'rank': 1, 'title': 'All I Want For Christmas Is You', 'weeks': 37}\n"
          ]
        }
      ]
    }
  ]
}