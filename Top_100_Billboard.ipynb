{
  "nbformat": 4,
  "nbformat_minor": 0,
  "metadata": {
    "colab": {
      "name": "Top 100 Billboard.ipynb",
      "provenance": [],
      "authorship_tag": "ABX9TyPnop400BLdAwCWmTgmydSD"
    },
    "kernelspec": {
      "name": "python3",
      "display_name": "Python 3"
    },
    "language_info": {
      "name": "python"
    }
  },
  "cells": [
    {
      "cell_type": "markdown",
      "source": [
        "#**Install Dependencies**"
      ],
      "metadata": {
        "id": "pKzCQRMuzDHp"
      }
    },
    {
      "cell_type": "code",
      "execution_count": null,
      "metadata": {
        "id": "7oAjqj8crZ4Q"
      },
      "outputs": [],
      "source": [
        "!pip install billboard.py"
      ]
    },
    {
      "cell_type": "markdown",
      "source": [
        "#**Import Dependencies**"
      ],
      "metadata": {
        "id": "ULW8lH4tzTBk"
      }
    },
    {
      "cell_type": "code",
      "source": [
        "import billboard\n",
        "from datetime import date,timedelta\n",
        "import pandas as pd"
      ],
      "metadata": {
        "id": "FtKfVWyasFyO"
      },
      "execution_count": 30,
      "outputs": []
    },
    {
      "cell_type": "markdown",
      "source": [
        "#**Code**"
      ],
      "metadata": {
        "id": "bHK5crrkzS6c"
      }
    },
    {
      "cell_type": "markdown",
      "source": [
        "**To today function** \n",
        "\n",
        "\n",
        "> Loop and return all the dates from input to today's date in a date form\n",
        "\n",
        "\n",
        "\n",
        "\n"
      ],
      "metadata": {
        "id": "jaDlqdtGzgf1"
      }
    },
    {
      "cell_type": "code",
      "source": [
        "#Initial date\n",
        "def to_today(date):\n",
        "  year = int(date[:4]) \n",
        "  month = int(date[5:7])  \n",
        "  day = int(date[8:10]) \n",
        "\n",
        "  date = datetime.date(year,month,day)\n",
        "  today=date.today()\n",
        "  date_list = []\n",
        "\n",
        "\n",
        "  while date < today:\n",
        "    date_list.append(str(date))\n",
        "    date+=timedelta(days=1)\n",
        "  return date_list\n",
        "  \n",
        " \n",
        " "
      ],
      "metadata": {
        "id": "6dAEVWZp1CEW"
      },
      "execution_count": 36,
      "outputs": []
    },
    {
      "cell_type": "code",
      "source": [
        "def get_chart(date):\n",
        "  chart = billboard.ChartData('hot-100',date)\n",
        "  #for i in range(100):\n",
        "  for i in range(1):\n",
        "    song = chart[i]  # Get no. 1 song on chart\n",
        "    artist_title_song = song.artist+song.title\n",
        "\n",
        "    song_dict  =  {\n",
        "        \"id\":str(hash(artist_title_song))[1:13],\n",
        "        \"artist\": song.artist,\n",
        "        \"image\":song.image,\n",
        "        \"lastpos\":song.lastPos,\n",
        "        \"peakpos\":song.peakPos,\n",
        "        \"rank\":song.rank,\n",
        "        \"title\":song.title,\n",
        "        \"weeks\": song.weeks\n",
        "    }\n",
        "\n",
        "    id_song = []\n",
        "    date = []\n",
        "    artist = []\n",
        "    image = []\n",
        "    lastpos = []\n",
        "    peakpos = []\n",
        "    rank = []\n",
        "    title = []\n",
        "    weeks = []\n",
        "\n",
        "    id_song.append(song_dict.id)\n",
        "    date.append(date)\n",
        "    artist.append(song_dict.artist)\n",
        "    image.append(song_dict.image)\n",
        "    lastpos.append(song_dict.lastpos)\n",
        "    peakpos.append(song_dict.peakpos)\n",
        "    rank.append(song_dict.rank)\n",
        "    title.append(song_dict.title)\n",
        "    weeks.append(song_dict.weeks)\n",
        "\n",
        "    df = pd.DataFrame({\n",
        "          \"id_song\":id_song, \n",
        "          \"date\":date,\n",
        "          \"artist\": artist,\n",
        "          \"image\" :image,\n",
        "          \"lastpos\": lastpos,\n",
        "          \"peakpos\" :peakpos,\n",
        "          \"rank\" :rank,\n",
        "          \"title\":title,\n",
        "          \"weeks\" :weeks\n",
        "    })\n",
        "\n",
        "  "
      ],
      "metadata": {
        "id": "ST9e-1KN3f6N"
      },
      "execution_count": 4,
      "outputs": []
    },
    {
      "cell_type": "code",
      "source": [
        "#hot-100\n",
        "chart = billboard.ChartData('hot-100',\"2022-04-30\")\n",
        "print(chart[99])\n",
        "print(chart[99].rank)"
      ],
      "metadata": {
        "id": "bulffzGXr8sS",
        "outputId": "ae669314-60bc-45e3-ad6d-bdbda3d908f0",
        "colab": {
          "base_uri": "https://localhost:8080/"
        }
      },
      "execution_count": 9,
      "outputs": [
        {
          "output_type": "stream",
          "name": "stdout",
          "text": [
            "'X Ultima Vez' by Daddy Yankee & Bad Bunny\n",
            "100\n"
          ]
        }
      ]
    },
    {
      "cell_type": "code",
      "source": [
        "get_chart(date(2020,1,1))"
      ],
      "metadata": {
        "id": "3an0JdBh4fjK",
        "outputId": "ac310aca-d738-4d1c-edc8-d634cd82a261",
        "colab": {
          "base_uri": "https://localhost:8080/",
          "height": 165
        }
      },
      "execution_count": 10,
      "outputs": [
        {
          "output_type": "error",
          "ename": "TypeError",
          "evalue": "ignored",
          "traceback": [
            "\u001b[0;31m---------------------------------------------------------------------------\u001b[0m",
            "\u001b[0;31mTypeError\u001b[0m                                 Traceback (most recent call last)",
            "\u001b[0;32m<ipython-input-10-03352de270c9>\u001b[0m in \u001b[0;36m<module>\u001b[0;34m()\u001b[0m\n\u001b[0;32m----> 1\u001b[0;31m \u001b[0mget_chart\u001b[0m\u001b[0;34m(\u001b[0m\u001b[0mdate\u001b[0m\u001b[0;34m(\u001b[0m\u001b[0;36m2020\u001b[0m\u001b[0;34m,\u001b[0m\u001b[0;36m1\u001b[0m\u001b[0;34m,\u001b[0m\u001b[0;36m1\u001b[0m\u001b[0;34m)\u001b[0m\u001b[0;34m)\u001b[0m\u001b[0;34m\u001b[0m\u001b[0;34m\u001b[0m\u001b[0m\n\u001b[0m",
            "\u001b[0;31mTypeError\u001b[0m: 'datetime.date' object is not callable"
          ]
        }
      ]
    }
  ]
}