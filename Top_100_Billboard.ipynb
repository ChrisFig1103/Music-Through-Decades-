{
  "nbformat": 4,
  "nbformat_minor": 0,
  "metadata": {
    "colab": {
      "name": "Top 100 Billboard.ipynb",
      "provenance": [],
      "authorship_tag": "ABX9TyM1X87xubWdQSgh1HEAq7El"
    },
    "kernelspec": {
      "name": "python3",
      "display_name": "Python 3"
    },
    "language_info": {
      "name": "python"
    }
  },
  "cells": [
    {
      "cell_type": "markdown",
      "source": [
        "#**Install Dependencies**"
      ],
      "metadata": {
        "id": "pKzCQRMuzDHp"
      }
    },
    {
      "cell_type": "code",
      "execution_count": 1,
      "metadata": {
        "id": "7oAjqj8crZ4Q",
        "colab": {
          "base_uri": "https://localhost:8080/"
        },
        "outputId": "005ebb3a-ecae-447c-f67a-80561ea17197"
      },
      "outputs": [
        {
          "output_type": "stream",
          "name": "stdout",
          "text": [
            "Looking in indexes: https://pypi.org/simple, https://us-python.pkg.dev/colab-wheels/public/simple/\n",
            "Requirement already satisfied: billboard.py in /usr/local/lib/python3.7/dist-packages (7.0.0)\n",
            "Requirement already satisfied: beautifulsoup4>=4.4.1 in /usr/local/lib/python3.7/dist-packages (from billboard.py) (4.6.3)\n",
            "Requirement already satisfied: requests>=2.2.1 in /usr/local/lib/python3.7/dist-packages (from billboard.py) (2.23.0)\n",
            "Requirement already satisfied: chardet<4,>=3.0.2 in /usr/local/lib/python3.7/dist-packages (from requests>=2.2.1->billboard.py) (3.0.4)\n",
            "Requirement already satisfied: certifi>=2017.4.17 in /usr/local/lib/python3.7/dist-packages (from requests>=2.2.1->billboard.py) (2022.6.15)\n",
            "Requirement already satisfied: idna<3,>=2.5 in /usr/local/lib/python3.7/dist-packages (from requests>=2.2.1->billboard.py) (2.10)\n",
            "Requirement already satisfied: urllib3!=1.25.0,!=1.25.1,<1.26,>=1.21.1 in /usr/local/lib/python3.7/dist-packages (from requests>=2.2.1->billboard.py) (1.24.3)\n"
          ]
        }
      ],
      "source": [
        "!pip install billboard.py"
      ]
    },
    {
      "cell_type": "markdown",
      "source": [
        "#**Import Dependencies**"
      ],
      "metadata": {
        "id": "ULW8lH4tzTBk"
      }
    },
    {
      "cell_type": "code",
      "source": [
        "import billboard\n",
        "from datetime import date,timedelta\n",
        "import pandas as pd"
      ],
      "metadata": {
        "id": "FtKfVWyasFyO"
      },
      "execution_count": 2,
      "outputs": []
    },
    {
      "cell_type": "markdown",
      "source": [
        "#**Code**"
      ],
      "metadata": {
        "id": "bHK5crrkzS6c"
      }
    },
    {
      "cell_type": "markdown",
      "source": [
        "**To today function** \n",
        "\n",
        "\n",
        "> Loop and return all the dates from input to today's date in a date form\n",
        "\n",
        "\n",
        "\n",
        "\n"
      ],
      "metadata": {
        "id": "jaDlqdtGzgf1"
      }
    },
    {
      "cell_type": "code",
      "source": [
        "#Initial date\n",
        "def to_today(input_date):\n",
        "  try:\n",
        "    from_date = date.fromisoformat(input_date)\n",
        "    today=date.today()-timedelta(days=1)\n",
        "    date_list = []\n",
        "\n",
        "    while from_date < today:\n",
        "      date_list.append(str(from_date))\n",
        "      from_date+=timedelta(days=1)\n",
        "    return date_list\n",
        "  except ValueError:\n",
        "      print(\"date its a YYYY-MM-DD format\")"
      ],
      "metadata": {
        "id": "6dAEVWZp1CEW"
      },
      "execution_count": 3,
      "outputs": []
    },
    {
      "cell_type": "markdown",
      "source": [
        "**Get chart number** \n",
        "\n",
        "\n",
        "> get billboard chat from date to actual date based on top number\n",
        "\n"
      ],
      "metadata": {
        "id": "5sKStFEIIsDD"
      }
    },
    {
      "cell_type": "code",
      "source": [
        "def get_chart(date,top_number):\n",
        "  date_list = to_today(date)\n",
        "  id_song_array = []\n",
        "  date_array = []\n",
        "  artist_array = []\n",
        "  lastpos_array = []\n",
        "  peakpos_array = []\n",
        "  rank_array = []\n",
        "  title_array = []\n",
        "  weeks_array = []\n",
        "\n",
        "  for date in date_list:\n",
        "    chart = billboard.ChartData('hot-100',date)\n",
        "    for i in range(top_number):\n",
        "      song = chart[i] \n",
        "      artist_title_song = song.artist+\" \"+song.title\n",
        "  \n",
        "      id_song_array.append(str(hash(artist_title_song))[1:13])\n",
        "      date_array.append(date)\n",
        "      artist_array.append(song.artist)\n",
        "      lastpos_array.append(song.lastPos)\n",
        "      peakpos_array.append(song.peakPos)\n",
        "      rank_array.append(song.rank)\n",
        "      title_array.append(song.title)\n",
        "      weeks_array.append(song.weeks)\n",
        "\n",
        "  df = pd.DataFrame({\n",
        "    \"id_song\":id_song_array, \n",
        "    \"date\":date_array,\n",
        "    \"artist\": artist_array,\n",
        "    \"lastpos\": lastpos_array,\n",
        "    \"peakpos\" :peakpos_array,\n",
        "    \"rank\" :rank_array,\n",
        "    \"title\":title_array,\n",
        "    \"weeks\" :weeks_array\n",
        "  })\n",
        "\n",
        "  return df\n",
        "  "
      ],
      "metadata": {
        "id": "ST9e-1KN3f6N"
      },
      "execution_count": 4,
      "outputs": []
    },
    {
      "cell_type": "markdown",
      "source": [
        "**Download dataframe to excel file** \n",
        "\n",
        "\n"
      ],
      "metadata": {
        "id": "DAFqFfo4nu9Q"
      }
    },
    {
      "cell_type": "code",
      "source": [
        "data = get_chart(\"2022-07-01\",100)\n",
        "print(data)\n",
        "data.to_excel('data.xls')"
      ],
      "metadata": {
        "colab": {
          "base_uri": "https://localhost:8080/"
        },
        "id": "tNptE3H57pVD",
        "outputId": "3460c0db-9e1b-413c-e4e0-e53ebf177842"
      },
      "execution_count": 5,
      "outputs": [
        {
          "output_type": "stream",
          "name": "stdout",
          "text": [
            "          id_song        date                                  artist  \\\n",
            "0    798532743276  2022-07-01               Drake Featuring 21 Savage   \n",
            "1    354407113495  2022-07-01                            Harry Styles   \n",
            "2    225063963436  2022-07-01                             Jack Harlow   \n",
            "3    428559050424  2022-07-01           Future Featuring Drake & Tems   \n",
            "4    659641965483  2022-07-01                                   Lizzo   \n",
            "..            ...         ...                                     ...   \n",
            "895  160480201987  2022-07-09                            Harry Styles   \n",
            "896  918529634938  2022-07-09       Rauw Alejandro & Chencho Corleone   \n",
            "897  969099036966  2022-07-09  Chris Brown Featuring Lil Wayne & BLEU   \n",
            "898  765313243061  2022-07-09        Sleepy Hallow Featuring 347aidan   \n",
            "899  817633205285  2022-07-09                     Megan Thee Stallion   \n",
            "\n",
            "     lastpos  peakpos  rank                         title  weeks  \n",
            "0          0        1     1                   Jimmy Cooks      1  \n",
            "1          1        1     2                     As It Was     12  \n",
            "2          2        1     3                   First Class     11  \n",
            "3          3        1     4                    Wait For U      8  \n",
            "4          4        4     5               About Damn Time     10  \n",
            "..       ...      ...   ...                           ...    ...  \n",
            "895       83        8    96  Music For A Sushi Restaurant      6  \n",
            "896      100       91    97                  Desesperados      7  \n",
            "897        0       98    98                    Possessive      1  \n",
            "898       94       60    99                     Die Young      5  \n",
            "899        0       29   100                        Plan B      5  \n",
            "\n",
            "[900 rows x 8 columns]\n"
          ]
        },
        {
          "output_type": "stream",
          "name": "stderr",
          "text": [
            "/usr/local/lib/python3.7/dist-packages/ipykernel_launcher.py:3: FutureWarning: As the xlwt package is no longer maintained, the xlwt engine will be removed in a future version of pandas. This is the only engine in pandas that supports writing in the xls format. Install openpyxl and write to an xlsx file instead. You can set the option io.excel.xls.writer to 'xlwt' to silence this warning. While this option is deprecated and will also raise a warning, it can be globally set and the warning suppressed.\n",
            "  This is separate from the ipykernel package so we can avoid doing imports until\n"
          ]
        }
      ]
    }
  ]
}