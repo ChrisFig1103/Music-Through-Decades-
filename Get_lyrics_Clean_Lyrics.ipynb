{
  "nbformat": 4,
  "nbformat_minor": 0,
  "metadata": {
    "colab": {
      "name": "Get lyrics/ Clean Lyrics.ipynb",
      "provenance": [],
      "authorship_tag": "ABX9TyO49vlRXt6qH1ll0IYaNkh2"
    },
    "kernelspec": {
      "name": "python3",
      "display_name": "Python 3"
    },
    "language_info": {
      "name": "python"
    }
  },
  "cells": [
    {
      "cell_type": "markdown",
      "source": [
        "#**Install Dependencies**"
      ],
      "metadata": {
        "id": "pKzCQRMuzDHp"
      }
    },
    {
      "cell_type": "code",
      "source": [
        "!pip install lyricsgenius\n",
        "!pip install pymusixmatch"
      ],
      "metadata": {
        "colab": {
          "base_uri": "https://localhost:8080/"
        },
        "id": "8cnEXihyehjN",
        "outputId": "aee7ebb0-0d41-4b10-e0bb-e318e7424863"
      },
      "execution_count": 4,
      "outputs": [
        {
          "output_type": "stream",
          "name": "stdout",
          "text": [
            "Looking in indexes: https://pypi.org/simple, https://us-python.pkg.dev/colab-wheels/public/simple/\n",
            "Requirement already satisfied: lyricsgenius in /usr/local/lib/python3.7/dist-packages (3.0.1)\n",
            "Requirement already satisfied: beautifulsoup4>=4.6.0 in /usr/local/lib/python3.7/dist-packages (from lyricsgenius) (4.6.3)\n",
            "Requirement already satisfied: requests>=2.20.0 in /usr/local/lib/python3.7/dist-packages (from lyricsgenius) (2.23.0)\n",
            "Requirement already satisfied: certifi>=2017.4.17 in /usr/local/lib/python3.7/dist-packages (from requests>=2.20.0->lyricsgenius) (2022.6.15)\n",
            "Requirement already satisfied: idna<3,>=2.5 in /usr/local/lib/python3.7/dist-packages (from requests>=2.20.0->lyricsgenius) (2.10)\n",
            "Requirement already satisfied: chardet<4,>=3.0.2 in /usr/local/lib/python3.7/dist-packages (from requests>=2.20.0->lyricsgenius) (3.0.4)\n",
            "Requirement already satisfied: urllib3!=1.25.0,!=1.25.1,<1.26,>=1.21.1 in /usr/local/lib/python3.7/dist-packages (from requests>=2.20.0->lyricsgenius) (1.24.3)\n",
            "Looking in indexes: https://pypi.org/simple, https://us-python.pkg.dev/colab-wheels/public/simple/\n",
            "Requirement already satisfied: pymusixmatch in /usr/local/lib/python3.7/dist-packages (0.3)\n",
            "Requirement already satisfied: requests in /usr/local/lib/python3.7/dist-packages (from pymusixmatch) (2.23.0)\n",
            "Requirement already satisfied: chardet<4,>=3.0.2 in /usr/local/lib/python3.7/dist-packages (from requests->pymusixmatch) (3.0.4)\n",
            "Requirement already satisfied: urllib3!=1.25.0,!=1.25.1,<1.26,>=1.21.1 in /usr/local/lib/python3.7/dist-packages (from requests->pymusixmatch) (1.24.3)\n",
            "Requirement already satisfied: certifi>=2017.4.17 in /usr/local/lib/python3.7/dist-packages (from requests->pymusixmatch) (2022.6.15)\n",
            "Requirement already satisfied: idna<3,>=2.5 in /usr/local/lib/python3.7/dist-packages (from requests->pymusixmatch) (2.10)\n"
          ]
        }
      ]
    },
    {
      "cell_type": "markdown",
      "source": [
        "#**Import Dependencies**"
      ],
      "metadata": {
        "id": "ULW8lH4tzTBk"
      }
    },
    {
      "cell_type": "code",
      "source": [
        "import pandas as pd\n",
        "import lyricsgenius"
      ],
      "metadata": {
        "id": "eza6QHfclckV"
      },
      "execution_count": 5,
      "outputs": []
    },
    {
      "cell_type": "markdown",
      "source": [
        "#**Credentials**"
      ],
      "metadata": {
        "id": "tNOK0m3WwuPd"
      }
    },
    {
      "cell_type": "code",
      "source": [
        "genius_token = ''\n",
        "genius = lyricsgenius.Genius(genius_token)"
      ],
      "metadata": {
        "id": "avf8miTrtKPb"
      },
      "execution_count": 6,
      "outputs": []
    },
    {
      "cell_type": "markdown",
      "source": [
        "#**Get lyrics Function**"
      ],
      "metadata": {
        "id": "386dtDXKtHd6"
      }
    },
    {
      "cell_type": "code",
      "source": [
        "def get_lyrics(df):\n",
        "  artist_array = []\n",
        "  track_name_array = []\n",
        "  lyrics_array = []\n",
        "\n",
        "  for i in range(len(df)):\n",
        "      artist = df.iloc[i]['artist']\n",
        "      track_name = df.iloc[i]['track_name']\n",
        "      try:\n",
        "        lyrics = genius.search_song(track_name,artist).lyrics \n",
        "      except AttributeError:\n",
        "        lyrics = None\n",
        "    \n",
        "      artist_array.append(artist)\n",
        "      track_name_array.append(track_name)\n",
        "      lyrics_array.append(lyrics)\n",
        "\n",
        "  lyrics_df = pd.DataFrame({\n",
        "      \"artist\":artist_array, \n",
        "      \"track_name\":track_name_array,\n",
        "      \"lyrics\": lyrics_array\n",
        "    })\n",
        "\n",
        "\n",
        "  return lyrics_df"
      ],
      "metadata": {
        "id": "J7Ya7Ec-xciP"
      },
      "execution_count": null,
      "outputs": []
    },
    {
      "cell_type": "markdown",
      "source": [
        "#**Clean lyrics Function**"
      ],
      "metadata": {
        "id": "uVouxbbcJKhz"
      }
    },
    {
      "cell_type": "code",
      "source": [
        "def clean_lyrics(lyrics):\n",
        "  lyrics = re.sub(r\"[\\[].*?[\\]]\", \"\", lyrics)\n",
        "  lyrics = re.sub(r\"[\\n]\",\" \",lyrics)\n",
        "  return lyrics"
      ],
      "metadata": {
        "id": "jb7W6iyVJQ_B"
      },
      "execution_count": null,
      "outputs": []
    },
    {
      "cell_type": "code",
      "source": [
        "original_dataframe = pd.read_csv (r'data_album.csv')\n",
        "df = get_lyrics(original_dataframe)\n",
        "print(df)\n",
        "df"
      ],
      "metadata": {
        "id": "v2woIvHkQ__O"
      },
      "execution_count": null,
      "outputs": []
    },
    {
      "cell_type": "code",
      "source": [
        "df['lyrics'][0]"
      ],
      "metadata": {
        "colab": {
          "base_uri": "https://localhost:8080/",
          "height": 122
        },
        "id": "qs-x6P4XKlv5",
        "outputId": "ee1c76db-e262-4c1b-cc8c-5bde9e3a32df"
      },
      "execution_count": 15,
      "outputs": [
        {
          "output_type": "execute_result",
          "data": {
            "text/plain": [
              "'Moscow Mule Lyrics[Letra de \"Moscow Mule\"]\\n\\n[Intro]\\nSi yo no te escribo, tú no me escribe\\', ey\\nSi tú quieres, te busco, yo\\u2005sé\\u2005dónde tú vive\\'\\nQuizá\\u2005hoy está aborrecía\\'\\nPero por dentro tú\\u2005tiene\\' alegría\\n\\n[Coro]\\nSi quieres te la saco\\nDos trago\\' y sabes que me pongo bellaco\\nNo somo\\' na\\', pero estamo\\' envuelto\\' hace rato, oh-oh\\nWhatsApp sin el retrato, no guarda mi contacto (¡Ey, ey, ey, ey!)\\nPero se la saco\\nDos trago\\' y sabes que me pongo bellaco\\nNo somo\\' na\\', pero estamo\\' envuelto\\' hace rato, oh-oh\\nWhatsApp sin el retrato, no guarda mi contacto-to\\n[Verso 1]\\nTodo e\\' underwater (Ey)\\nBaby, vamo\\' pa\\'l cuarto quarter\\nEn la Uru\\' comiéndono\\' el pare\\nTe vo\\'a dar duro pa\\' que no me compare\\', ey\\nCuida\\'o con ese mahón, que se va a romper (Ey)\\nEse booty lo va a romper (Ey)\\nYo no sé si yo te vuelvo a ver\\nSi mañana me vo\\'a perder\\nTú ere\\' una player, me hiciste un crossover\\nEsta ve\\' metiste, me diste game over, eh-eh (Huh)\\nPorque no puedo olvidar\\nEl perreo aquel que se fue viral\\nDime si mañana te va\\' a quedar\\nDespués de la alarma te lo voy a dar, ey\\nHoy tú no va\\' a trabajar, jeje, no\\n\\n[Coro]\\nSi quieres te la saco\\nDos trago\\' y sabes que me pongo bellaco\\nNo somo\\' na\\', pero estamo\\' envuelto\\' hace rato, oh-oh\\nWhatsApp sin el retrato, no guarda mi contacto\\nPero se la saco\\nDos trago\\' y sabes que me pongo bellaco\\nNo somo\\' na\\', pero estamo\\' envuelto\\' hace rato, oh-oh\\nWhatsApp sin el retrato, no guarda mi contacto\\nRelated Songs[Verso 2]\\nMe gustan así, piquetúa\\nMami, qué rica te ve\\' esnúa\\'\\nQuizás no sentiste lo que yo sentí\\nPero aún te debo una noche en la suite\\nPa\\' darte tabla; dale, mami, habla\\nTú ere\\' una diablona, no te haga\\'\\nPa\\' darte tabla; dale, mami, habla\\nTú ere\\' una diablona, no te haga\\'\\n\\n[Puente]\\nNo, no, no, no (No, no, no, no)\\nNo, no, no, no (No, no, no, no)\\nNo, no, no, no (No, no, no, no)\\nEy, yo no sé tú, pero yo quisiera amanecer esnú\\'\\nEn una playa por Bali, si no, Cancún\\nPide otro moscow mule (Ey)\\n\\n[Verso 3]\\nQue ando en nota, nota\\nVen y choca\\nConmigo que se joda\\nBaby, tú \\'tás grandota\\nPero hoy ando en nota, nota\\nVen y choca\\nConmigo que se joda, eh\\nQue se joda, ey\\n[Outro]\\nMami, tú quiere\\' perreo (Tú quiere\\' perreo)\\nTú quiere\\' perreo (Tú quiere\\' perreo)\\nTú quiere\\' bellaqueo (Tú quiere\\' bellaqueo)\\nTú quiere\\' bellaqueo (Tú quiere\\' bellaqueo)\\nMami, tú quiere\\' perreo (Tú quiere\\' perreo)\\nTú quiere\\' perreo (Tú quiere\\' perreo)\\nTú quiere\\' bellaqueo (Tú quiere\\' bellaqueo)\\nTú quiere\\' bellaqueo (Tú quiere\\' bellaqueo)4Embed'"
            ],
            "application/vnd.google.colaboratory.intrinsic+json": {
              "type": "string"
            }
          },
          "metadata": {},
          "execution_count": 15
        }
      ]
    },
    {
      "cell_type": "markdown",
      "source": [
        ""
      ],
      "metadata": {
        "id": "qn-RE-cpKrP6"
      }
    },
    {
      "cell_type": "code",
      "source": [
        "def clean_lyrics(lyrics):\n",
        "  lyrics = re.sub(r\"[\\[].*?[\\]]\", \"\", lyrics)\n",
        "  lyrics = re.sub(r\"[\\n]\",\" \",lyrics)\n",
        "  return lyrics\n",
        " "
      ],
      "metadata": {
        "id": "vUVjy6ywcPZs"
      },
      "execution_count": null,
      "outputs": []
    }
  ]
}